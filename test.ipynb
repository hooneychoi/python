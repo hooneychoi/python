{
 "cells": [
  {
   "cell_type": "markdown",
   "id": "ace5d794-c3fc-4703-97bf-9e4957c27e6b",
   "metadata": {},
   "source": [
    "https://realpython.com/introduction-to-python-generators/"
   ]
  },
  {
   "cell_type": "markdown",
   "id": "8012c4c8-9933-4138-8f6e-7273354b05f7",
   "metadata": {},
   "source": [
    "https://realpython.com/courses/python-generators/"
   ]
  },
  {
   "cell_type": "markdown",
   "id": "a7445bf2-ac02-464a-9f7a-bba14e6111a2",
   "metadata": {},
   "source": [
    "# 리스트 컴프리헨션 vs 제너레이터 컴프리헨션\n",
    "- memory foot print wise"
   ]
  },
  {
   "cell_type": "markdown",
   "id": "eee0afc6-f54b-4127-98a9-88383d412aed",
   "metadata": {},
   "source": [
    ">타입이 다르고"
   ]
  },
  {
   "cell_type": "code",
   "execution_count": 1,
   "id": "706a31bc-e867-44f4-91a4-65ffe2044dab",
   "metadata": {},
   "outputs": [
    {
     "data": {
      "text/plain": [
       "list"
      ]
     },
     "execution_count": 1,
     "metadata": {},
     "output_type": "execute_result"
    }
   ],
   "source": [
    "nums_squared_lc = [x*x for x in range(2,10)]\n",
    "type(nums_squared_lc)"
   ]
  },
  {
   "cell_type": "code",
   "execution_count": 2,
   "id": "f6e3870d-4a75-4be9-ae4b-d65c35f0d01d",
   "metadata": {},
   "outputs": [
    {
     "data": {
      "text/plain": [
       "generator"
      ]
     },
     "execution_count": 2,
     "metadata": {},
     "output_type": "execute_result"
    }
   ],
   "source": [
    "nums_squared_gc = (x*x for x in range(2,10))\n",
    "type(nums_squared_gc)"
   ]
  },
  {
   "cell_type": "markdown",
   "id": "cab9df23-c1c7-468f-a10b-e2875fa4855a",
   "metadata": {},
   "source": [
    ">접근법도 다르다"
   ]
  },
  {
   "cell_type": "code",
   "execution_count": 3,
   "id": "58e8ba2e-0bcc-4758-8467-962496f9c919",
   "metadata": {},
   "outputs": [
    {
     "data": {
      "text/plain": [
       "[4, 9, 16, 25, 36, 49, 64, 81]"
      ]
     },
     "execution_count": 3,
     "metadata": {},
     "output_type": "execute_result"
    }
   ],
   "source": [
    "nums_squared_lc"
   ]
  },
  {
   "cell_type": "code",
   "execution_count": 4,
   "id": "cc8c9f27-dd72-4b73-a5c8-844e4835c20f",
   "metadata": {},
   "outputs": [
    {
     "name": "stdout",
     "output_type": "stream",
     "text": [
      "4\n",
      "9\n",
      "16\n",
      "25\n",
      "36\n",
      "49\n",
      "64\n",
      "81\n"
     ]
    }
   ],
   "source": [
    "for x in range(2,10):\n",
    "    print(next(nums_squared_gc))"
   ]
  },
  {
   "cell_type": "markdown",
   "id": "d9492764-2142-4518-8d1d-b6d908907306",
   "metadata": {},
   "source": [
    "# 사용법"
   ]
  },
  {
   "cell_type": "markdown",
   "id": "b2e2384e-6524-4744-ac49-fd10e165f536",
   "metadata": {},
   "source": [
    "사실 알 필요 없다, 여기가지만 하자.. 파일 업로드하는 것만 해보자, 이걸 쓸모있을듯"
   ]
  },
  {
   "cell_type": "markdown",
   "id": "c05926c6-3712-41bc-8862-145032ad93fb",
   "metadata": {},
   "source": [
    "- yield\n",
    "- .send()\n",
    "- .throw()\n",
    "- .close()"
   ]
  },
  {
   "cell_type": "markdown",
   "id": "1c2572d6-e0c5-48b2-a2f1-e19cee93fd94",
   "metadata": {},
   "source": [
    "## yield"
   ]
  },
  {
   "cell_type": "code",
   "execution_count": 50,
   "id": "128f3921-6c77-447a-9c80-aedcd22f99fa",
   "metadata": {},
   "outputs": [],
   "source": [
    "def infinite_sequence():\n",
    "    num = 0\n",
    "    while True:\n",
    "        yield num\n",
    "        num += 1\n",
    "        yield 'asdf'"
   ]
  },
  {
   "cell_type": "code",
   "execution_count": 51,
   "id": "910ca3af-dfd8-4a30-baab-10ed22ec1d23",
   "metadata": {},
   "outputs": [
    {
     "data": {
      "text/plain": [
       "generator"
      ]
     },
     "execution_count": 51,
     "metadata": {},
     "output_type": "execute_result"
    }
   ],
   "source": [
    "infinite = infinite_sequence()\n",
    "type(infinite)"
   ]
  },
  {
   "cell_type": "code",
   "execution_count": 52,
   "id": "a79577f5-afdc-4021-9ad3-7ca7b60b5688",
   "metadata": {},
   "outputs": [
    {
     "data": {
      "text/plain": [
       "0"
      ]
     },
     "execution_count": 52,
     "metadata": {},
     "output_type": "execute_result"
    }
   ],
   "source": [
    "next(infinite)"
   ]
  },
  {
   "cell_type": "code",
   "execution_count": 53,
   "id": "20dffe27-c0e3-4129-b1ae-1fdb05281847",
   "metadata": {},
   "outputs": [
    {
     "data": {
      "text/plain": [
       "'asdf'"
      ]
     },
     "execution_count": 53,
     "metadata": {},
     "output_type": "execute_result"
    }
   ],
   "source": [
    "next(infinite)"
   ]
  },
  {
   "cell_type": "code",
   "execution_count": 54,
   "id": "400538ab-3af1-4b81-b32e-79f6b0e6cd8c",
   "metadata": {},
   "outputs": [
    {
     "data": {
      "text/plain": [
       "1"
      ]
     },
     "execution_count": 54,
     "metadata": {},
     "output_type": "execute_result"
    }
   ],
   "source": [
    "next(infinite)"
   ]
  },
  {
   "cell_type": "code",
   "execution_count": 55,
   "id": "e22cd991-ab3f-4a55-b2aa-4b2e9170389f",
   "metadata": {},
   "outputs": [
    {
     "data": {
      "text/plain": [
       "'asdf'"
      ]
     },
     "execution_count": 55,
     "metadata": {},
     "output_type": "execute_result"
    }
   ],
   "source": [
    "next(infinite)"
   ]
  },
  {
   "cell_type": "code",
   "execution_count": 56,
   "id": "4b5c7ddc-2b65-4500-ba2d-39d778ffa3ec",
   "metadata": {},
   "outputs": [
    {
     "data": {
      "text/plain": [
       "[2, 'asdf', 3, 'asdf', 4, 'asdf', 5, 'asdf', 6, 'asdf']"
      ]
     },
     "execution_count": 56,
     "metadata": {},
     "output_type": "execute_result"
    }
   ],
   "source": [
    "[next(infinite) for i in range(10)]"
   ]
  },
  {
   "cell_type": "code",
   "execution_count": 57,
   "id": "b71fc60e-9036-4571-91ce-f0c858a838a9",
   "metadata": {},
   "outputs": [
    {
     "data": {
      "text/plain": [
       "7"
      ]
     },
     "execution_count": 57,
     "metadata": {},
     "output_type": "execute_result"
    }
   ],
   "source": [
    "next(infinite)"
   ]
  },
  {
   "cell_type": "code",
   "execution_count": 58,
   "id": "cb86293a-9d3a-4179-a8eb-76a51cf4be53",
   "metadata": {},
   "outputs": [
    {
     "data": {
      "text/plain": [
       "'asdf'"
      ]
     },
     "execution_count": 58,
     "metadata": {},
     "output_type": "execute_result"
    }
   ],
   "source": [
    "next(infinite)"
   ]
  },
  {
   "cell_type": "code",
   "execution_count": 68,
   "id": "3f12acc4-9eb8-427b-ac62-0ee9c60abe53",
   "metadata": {},
   "outputs": [],
   "source": [
    "def finite_sequence():\n",
    "    nums = [1,2,3]\n",
    "    for num in nums:\n",
    "        yield num"
   ]
  },
  {
   "cell_type": "code",
   "execution_count": 69,
   "id": "62c9e43a-a8e2-48a4-b25c-21cbfd3c9ab2",
   "metadata": {},
   "outputs": [],
   "source": [
    "finite = finite_sequence()"
   ]
  },
  {
   "cell_type": "code",
   "execution_count": 73,
   "id": "e6f03322-4a7d-4cc3-841f-b773411bc24c",
   "metadata": {},
   "outputs": [
    {
     "ename": "StopIteration",
     "evalue": "",
     "output_type": "error",
     "traceback": [
      "\u001b[1;31m---------------------------------------------------------------------------\u001b[0m",
      "\u001b[1;31mStopIteration\u001b[0m                             Traceback (most recent call last)",
      "\u001b[1;32m<ipython-input-73-492424084f3f>\u001b[0m in \u001b[0;36m<module>\u001b[1;34m\u001b[0m\n\u001b[1;32m----> 1\u001b[1;33m \u001b[0mnext\u001b[0m\u001b[1;33m(\u001b[0m\u001b[0mfinite\u001b[0m\u001b[1;33m)\u001b[0m\u001b[1;33m\u001b[0m\u001b[1;33m\u001b[0m\u001b[0m\n\u001b[0m",
      "\u001b[1;31mStopIteration\u001b[0m: "
     ]
    }
   ],
   "source": [
    "next(finite)"
   ]
  },
  {
   "cell_type": "markdown",
   "id": "8a6580bd-9d4e-497c-a3e2-a6929ad74334",
   "metadata": {},
   "source": [
    "# 파일 로드할 때 부하 줄이기"
   ]
  },
  {
   "cell_type": "code",
   "execution_count": 29,
   "id": "12187496-d05a-4e79-a5e3-5be219648c22",
   "metadata": {},
   "outputs": [
    {
     "name": "stdout",
     "output_type": "stream",
     "text": [
      "Total series A fundraising: $4376015000\n"
     ]
    }
   ],
   "source": [
    "file_name = \"techcrunch.csv\"\n",
    "\n",
    "lines = (line for line in open(file_name, encoding='UTF8'))\n",
    "list_line = (s.rstrip().split(\",\") for s in lines)\n",
    "cols = next(list_line)\n",
    "\n",
    "company_dicts = (dict(zip(cols, data)) for data in list_line)\n",
    "funding = (int(company_dict[\"raisedAmt\"]) for company_dict in company_dicts if company_dict[\"round\"] == \"a\")\n",
    "total_series_a = sum(funding)\n",
    "print(f\"Total series A fundraising: ${total_series_a}\")"
   ]
  },
  {
   "cell_type": "markdown",
   "id": "2892ea7a-a3ef-4231-8564-fc0ab7999163",
   "metadata": {},
   "source": [
    "위에 코드에서 이상한점: 반복문이 없다, 대신 sum(funding) 이게 어떤 역할을 하는 거 같다"
   ]
  },
  {
   "cell_type": "markdown",
   "id": "d3d7d508-cd6c-4c8c-b0b9-7263eff72049",
   "metadata": {},
   "source": [
    "비슷하게 해보자"
   ]
  },
  {
   "cell_type": "code",
   "execution_count": 68,
   "id": "cf46ba2c-4145-4acc-9acc-a0ba955b33dc",
   "metadata": {},
   "outputs": [],
   "source": [
    "nums_lst = [x for x in range(1,101)]\n",
    "nums_gen = (x**2 for x in nums_lst)"
   ]
  },
  {
   "cell_type": "code",
   "execution_count": 66,
   "id": "89f351fa-d4dd-41ca-ac11-43e3f175d4a7",
   "metadata": {},
   "outputs": [
    {
     "data": {
      "text/plain": [
       "338350"
      ]
     },
     "execution_count": 66,
     "metadata": {},
     "output_type": "execute_result"
    }
   ],
   "source": [
    "sum(nums_gen)"
   ]
  },
  {
   "cell_type": "code",
   "execution_count": null,
   "id": "7742b017-b923-4727-b6e5-d949ec9b76d2",
   "metadata": {},
   "outputs": [],
   "source": []
  }
 ],
 "metadata": {
  "kernelspec": {
   "display_name": "Python 3.9.1 64-bit ('3.9.1')",
   "language": "python",
   "name": "python3"
  },
  "language_info": {
   "codemirror_mode": {
    "name": "ipython",
    "version": 3
   },
   "file_extension": ".py",
   "mimetype": "text/x-python",
   "name": "python",
   "nbconvert_exporter": "python",
   "pygments_lexer": "ipython3",
   "version": "3.9.1"
  },
  "vscode": {
   "interpreter": {
    "hash": "daf60decd509ff027b53517d6d47045ef5f43029e44f4632612d9a379841ad57"
   }
  }
 },
 "nbformat": 4,
 "nbformat_minor": 5
}
